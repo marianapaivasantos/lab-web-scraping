{
 "cells": [
  {
   "cell_type": "markdown",
   "id": "7e7a1ab8-2599-417d-9a65-25ef07f3a786",
   "metadata": {
    "id": "7e7a1ab8-2599-417d-9a65-25ef07f3a786"
   },
   "source": [
    "# Lab | Web Scraping"
   ]
  },
  {
   "cell_type": "markdown",
   "id": "ce8882fc-4815-4567-92fa-b4816358ba7d",
   "metadata": {
    "id": "ce8882fc-4815-4567-92fa-b4816358ba7d"
   },
   "source": [
    "Welcome to the IMDb Web Scraping Adventure Lab!\n",
    "\n",
    "**Objective**\n",
    "\n",
    "In this lab, we will embark on a mission to unearth valuable insights from the vast sea of data available on IMDb, one of the largest online databases of movie, TV, and celebrity information. As budding data scientists and business analysts, you have been tasked to scrape a specific subset of data from IMDb to assist film production companies in understanding the landscape of highly-rated movies in a defined time period. Your insights will potentially influence the making of the next netflix movie!\n",
    "\n",
    "**Background**\n",
    "\n",
    "In a world where data has become the new currency, businesses are leveraging big data to make informed decisions that drive success and profitability. The entertainment industry, being no exception, utilizes data analytics to comprehend market trends, audience preferences, and the performance of films based on various parameters such as director, genre, stars involved, etc. IMDb stands as a goldmine of such data, offering intricate details of almost every movie ever made.\n",
    "\n",
    "**Task**\n",
    "\n",
    "Your task is to create a Python script using `BeautifulSoup` and `pandas` to scrape IMDb movie data based on user ratings and release dates. This script should be able to filter movies with ratings above a certain threshold and within a specified date range.\n",
    "\n",
    "**Expected Outcome**\n",
    "\n",
    "- A function named `scrape_imdb` that takes four parameters: `title_type`,`user_rating`, `start_date`, and `end_date`.\n",
    "- The function should return a DataFrame with the following columns:\n",
    "  - **Movie Nr**: The number representing the movie’s position in the list.\n",
    "  - **Title**: The title of the movie.\n",
    "  - **Year**: The year the movie was released.\n",
    "  - **Rating**: The IMDb rating of the movie.\n",
    "  - **Runtime (min)**: The duration of the movie in minutes.\n",
    "  - **Genre**: The genre of the movie.\n",
    "  - **Description**: A brief description of the movie.\n",
    "  - **Director**: The director of the movie.\n",
    "  - **Stars**: The main stars of the movie.\n",
    "  - **Votes**: The number of votes the movie received.\n",
    "  - **Gross ($M)**: The gross earnings of the movie in millions of USD.\n",
    "\n",
    "You will execute this script to scrape data for movies with the Title Type `Feature Film` that have a user rating of `7.5 and above` and were released between `January 1, 1990, and December 31, 1992`.\n",
    "\n",
    "Remember to experiment with different title types, dates and ratings to ensure your code is versatile and can handle various searches effectively!\n",
    "\n",
    "**Resources**\n",
    "\n",
    "- [Beautiful Soup Documentation](https://www.crummy.com/software/BeautifulSoup/bs4/doc/)\n",
    "- [Pandas Documentation](https://pandas.pydata.org/pandas-docs/stable/index.html)\n",
    "- [IMDb Advanced Search](https://www.imdb.com/search/title/)\n"
   ]
  },
  {
   "cell_type": "markdown",
   "id": "3519921d-5890-445b-9a33-934ed8ee378c",
   "metadata": {
    "id": "3519921d-5890-445b-9a33-934ed8ee378c"
   },
   "source": [
    "**Hint**\n",
    "\n",
    "Your first mission is to familiarize yourself with the IMDb advanced search page. Head over to [IMDb advanced search](https://www.imdb.com/search/title/) and input the following parameters, keeping all other fields to their default values or blank:\n",
    "\n",
    "- **Title Type**: Feature film\n",
    "- **Release date**: From 1990 to 1992 (Note: You don't need to specify the day and month)\n",
    "- **User Rating**: 7.5 to -\n",
    "\n",
    "Upon searching, you'll land on a page showcasing a list of movies, each displaying vital details such as the title, release year, and crew information. Your task is to scrape this treasure trove of data.\n",
    "\n",
    "Carefully examine the resulting URL and construct your own URL to include all the necessary parameters for filtering the movies."
   ]
  },
  {
   "cell_type": "markdown",
   "id": "25a83a0d-a742-49f6-985e-e27887cbf922",
   "metadata": {
    "id": "25a83a0d-a742-49f6-985e-e27887cbf922"
   },
   "source": [
    "\n",
    "---\n",
    "\n",
    "**Best of luck! Immerse yourself in the world of movies and may the data be with you!**"
   ]
  },
  {
   "cell_type": "markdown",
   "id": "7b75cf0d-9afa-4eec-a9e2-befeac68b2a0",
   "metadata": {
    "id": "7b75cf0d-9afa-4eec-a9e2-befeac68b2a0"
   },
   "source": [
    "**Important note**:\n",
    "\n",
    "In the fast-changing online world, websites often get updates and make changes. When you try this lab, the IMDb website might be different from what we expect.\n",
    "\n",
    "If you run into problems because of these changes, like new rules or things that stop you from getting data, don't worry! Instead, get creative.\n",
    "\n",
    "You can choose another website that interests you and is good for scraping data. Websites like Wikipedia or The New York Times are good options. The main goal is still the same: get useful data and learn how to scrape it from a website that you find interesting. It's a chance to practice your web scraping skills and explore a source of information you like."
   ]
  },
  {
   "cell_type": "code",
   "execution_count": null,
   "id": "40359eee-9cd7-4884-bfa4-83344c222305",
   "metadata": {
    "id": "40359eee-9cd7-4884-bfa4-83344c222305"
   },
   "outputs": [],
   "source": [
    "# Your solution goes here"
   ]
  },
  {
   "cell_type": "code",
   "execution_count": 1,
   "id": "022cf944",
   "metadata": {},
   "outputs": [],
   "source": [
    "import requests\n",
    "from bs4 import BeautifulSoup\n",
    "import pandas as pd"
   ]
  },
  {
   "cell_type": "code",
   "execution_count": 17,
   "id": "05e75831",
   "metadata": {},
   "outputs": [
    {
     "name": "stdout",
     "output_type": "stream",
     "text": [
      "Generated URL: https://www.imdb.com/list/ls002206094/\n",
      "Response status code: 200\n",
      "    Movie Nr                       Title  Year Rating Runtime (min)  \\\n",
      "0          1                      Matrix  1999   None           136   \n",
      "1          2   Seven - 7 Pecados Mortais  1995   None           127   \n",
      "2          3  Os Condenados de Shawshank  1994   None           142   \n",
      "3          4     Os Suspeitos do Costume  1995   None           106   \n",
      "4          5                Pulp Fiction  1994   None           154   \n",
      "..       ...                         ...   ...    ...           ...   \n",
      "95        96                    Elefante  2003   None            81   \n",
      "96        97                Mystic River  2003   None           138   \n",
      "97        98                 O Exorcista  1973   None           122   \n",
      "98        99              O Último Beijo  2006   None           115   \n",
      "99       100               Um Dia de Cão  1975   None           125   \n",
      "\n",
      "                      Genre                            Description  \\\n",
      "0            Action, Sci-Fi  Votes:\\n2,035,339\\n| Gross:\\n$171.48M   \n",
      "1     Crime, Drama, Mystery  Votes:\\n1,782,287\\n| Gross:\\n$100.13M   \n",
      "2                     Drama   Votes:\\n2,864,837\\n| Gross:\\n$28.34M   \n",
      "3     Crime, Drama, Mystery   Votes:\\n1,138,662\\n| Gross:\\n$23.34M   \n",
      "4              Crime, Drama  Votes:\\n2,199,881\\n| Gross:\\n$107.93M   \n",
      "..                      ...                                    ...   \n",
      "95   Crime, Drama, Thriller       Votes:\\n96,752\\n| Gross:\\n$1.23M   \n",
      "96    Crime, Drama, Mystery     Votes:\\n483,064\\n| Gross:\\n$90.14M   \n",
      "97                   Horror    Votes:\\n451,591\\n| Gross:\\n$232.91M   \n",
      "98   Comedy, Drama, Romance      Votes:\\n42,210\\n| Gross:\\n$11.60M   \n",
      "99  Biography, Crime, Drama     Votes:\\n271,696\\n| Gross:\\n$50.00M   \n",
      "\n",
      "             Director                                              Stars  \\\n",
      "0      Lana Wachowski  Lilly Wachowski, Keanu Reeves, Laurence Fishbu...   \n",
      "1       David Fincher  Morgan Freeman, Brad Pitt, Kevin Spacey, Andre...   \n",
      "2      Frank Darabont  Tim Robbins, Morgan Freeman, Bob Gunton, Willi...   \n",
      "3        Bryan Singer  Kevin Spacey, Gabriel Byrne, Chazz Palminteri,...   \n",
      "4   Quentin Tarantino  John Travolta, Uma Thurman, Samuel L. Jackson,...   \n",
      "..                ...                                                ...   \n",
      "95       Gus Van Sant  Elias McConnell, Alex Frost, Eric Deulen, John...   \n",
      "96     Clint Eastwood   Sean Penn, Tim Robbins, Kevin Bacon, Emmy Rossum   \n",
      "97   William Friedkin  Ellen Burstyn, Max von Sydow, Linda Blair, Lee...   \n",
      "98       Tony Goldwyn  Zach Braff, Jacinda Barrett, Rachel Bilson, Ca...   \n",
      "99       Sidney Lumet  Al Pacino, John Cazale, Penelope Allen, Sully ...   \n",
      "\n",
      "   Votes  Gross ($M)  \n",
      "0   None  171.479930  \n",
      "1   None  100.125643  \n",
      "2   None   28.341469  \n",
      "3   None   23.341568  \n",
      "4   None  107.928762  \n",
      "..   ...         ...  \n",
      "95  None    1.227000  \n",
      "96  None   90.135191  \n",
      "97  None  232.906145  \n",
      "98  None   11.596143  \n",
      "99  None   50.000000  \n",
      "\n",
      "[100 rows x 11 columns]\n"
     ]
    }
   ],
   "source": [
    "def scrape_imdb(title_type, user_rating, start_date, end_date):\n",
    "    movie_data = {\n",
    "        'Movie Nr': [],\n",
    "        'Title': [],\n",
    "        'Year': [],\n",
    "        'Rating': [],\n",
    "        'Runtime (min)': [],\n",
    "        'Genre': [],\n",
    "        'Description': [],\n",
    "        'Director': [],\n",
    "        'Stars': [],\n",
    "        'Votes': [],\n",
    "        'Gross ($M)': []\n",
    "    }\n",
    "\n",
    "    url = f'https://www.imdb.com/list/ls002206094/'\n",
    "    print(\"Generated URL:\", url)\n",
    "          \n",
    "    response = requests.get(url)\n",
    "    print(\"Response status code:\", response.status_code)\n",
    "    \n",
    "    response = requests.get(url)\n",
    "\n",
    "    soup = BeautifulSoup(response.text, 'html.parser')\n",
    "\n",
    "    movies = soup.find_all('div', class_='lister-item-content')\n",
    "\n",
    "    for index, movie in enumerate(movies):\n",
    "        movie_data['Movie Nr'].append(index + 1)\n",
    "        movie_data['Title'].append(movie.find('a').text.strip())\n",
    "        movie_year = movie.find('span', class_='lister-item-year')\n",
    "        movie_data['Year'].append(movie_year.text.strip('()') if movie_year else None)\n",
    "        rating_element = movie.find('div', class_='inline-block ratings-imdb-rating')\n",
    "        movie_data['Rating'].append(float(rating_element.text.strip()) if rating_element else None)\n",
    "        runtime_element = movie.find('span', class_='runtime')\n",
    "        movie_data['Runtime (min)'].append(runtime_element.text.strip(' min') if runtime_element else None)\n",
    "        genre_element = movie.find('span', class_='genre')\n",
    "        movie_data['Genre'].append(genre_element.text.strip() if genre_element else None)\n",
    "        description_element = movie.find_all('p', class_='text-muted')[-1]\n",
    "        movie_data['Description'].append(description_element.text.strip() if description_element else None)\n",
    "        director_element = movie.find_all('p')[2].find('a')\n",
    "        movie_data['Director'].append(director_element.text.strip() if director_element else None)\n",
    "        stars = [star.text.strip() for star in movie.find_all('p')[2].find_all('a')[1:]]\n",
    "        movie_data['Stars'].append(', '.join(stars))\n",
    "\n",
    "        votes_elements = movie.find_all('span', class_='sort-num_votes-visible')\n",
    "        votes_element = votes_elements[0].find_all('span')[1] if votes_elements else None\n",
    "        movie_data['Votes'].append(int(votes_element['data-value'].replace(',', '')) if votes_element else None)\n",
    "\n",
    "        gross_elements = movie.find_all('span', attrs={'name': 'nv'})\n",
    "        gross_element = gross_elements[1] if len(gross_elements) > 1 else None\n",
    "        movie_data['Gross ($M)'].append(float(gross_element['data-value'].replace(',', '')) / 1000000 if gross_element else None)\n",
    "\n",
    "\n",
    "        \n",
    "    df = pd.DataFrame(movie_data)\n",
    "\n",
    "    return df\n",
    "\n",
    "\n",
    "\n",
    "movie_df = scrape_imdb(title_type, user_rating, start_date, end_date)\n",
    "print(movie_df)\n"
   ]
  },
  {
   "cell_type": "markdown",
   "id": "9ab1217a-df9d-4a2b-a32c-2c5f1eecd52a",
   "metadata": {
    "id": "9ab1217a-df9d-4a2b-a32c-2c5f1eecd52a"
   },
   "source": [
    "## BONUS\n",
    "\n",
    "The search results span multiple pages, housing a total of 631 movies in our example with each page displaying 50 movies at most. To scrape data seamlessly from all pages, you'll need to dive deep into the structure of the URLs generated with each \"Next\" click.\n",
    "\n",
    "Take a close look at the following URLs:\n",
    "- First page:\n",
    "  ```\n",
    "  https://www.imdb.com/search/title/?title_type=feature&release_date=1990-01-01,1992-12-31&user_rating=7.5,\n",
    "  ```\n",
    "- Second page:\n",
    "  ```\n",
    "  https://www.imdb.com/search/title/?title_type=feature&release_date=1990-01-01,1992-12-31&user_rating=7.5,&start=51&ref_=adv_nxt\n",
    "  ```\n",
    "- Third page:\n",
    "  ```\n",
    "  https://www.imdb.com/search/title/?title_type=feature&release_date=1990-01-01,1992-12-31&user_rating=7.5,&start=101&ref_=adv_nxt\n",
    "  ```\n",
    "\n",
    "You should notice a pattern. There is a `start` parameter incrementing by 50 with each page, paired with a constant `ref_` parameter holding the value \"adv_nxt\".\n",
    "\n",
    "Modify your script so it's capable of iterating over all available pages to fetch data on all the 631 movies (631 is the total number of movies in the proposed example)."
   ]
  },
  {
   "cell_type": "code",
   "execution_count": null,
   "id": "21ac4fc0-a12b-4a00-9266-2020166f0dea",
   "metadata": {
    "id": "21ac4fc0-a12b-4a00-9266-2020166f0dea"
   },
   "outputs": [],
   "source": [
    "# Your solution goes here"
   ]
  }
 ],
 "metadata": {
  "colab": {
   "provenance": []
  },
  "kernelspec": {
   "display_name": "Python 3 (ipykernel)",
   "language": "python",
   "name": "python3"
  },
  "language_info": {
   "codemirror_mode": {
    "name": "ipython",
    "version": 3
   },
   "file_extension": ".py",
   "mimetype": "text/x-python",
   "name": "python",
   "nbconvert_exporter": "python",
   "pygments_lexer": "ipython3",
   "version": "3.11.5"
  }
 },
 "nbformat": 4,
 "nbformat_minor": 5
}
